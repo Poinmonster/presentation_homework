{
 "cells": [
  {
   "cell_type": "code",
   "execution_count": null,
   "metadata": {},
   "outputs": [],
   "source": [
    "#dependencies \n",
    "import matplotlib.pyplot as plt \n",
    "import pandas as pd \n",
    "import numpy as np\n",
    "import requests \n",
    "import time "
   ]
  },
  {
   "cell_type": "code",
   "execution_count": null,
   "metadata": {},
   "outputs": [],
   "source": [
    "#Open CSV file \n",
    "gun_violence = \"gun_violence_data.csv\"\n",
    "gun_violence_pd = pd.read_csv(gun_violence)\n",
    "# gun_violence_pd.head()\n",
    "gun_violence_red = gun_violence_pd[[\"incident_id\", \"date\", \"city_or_county\", \"n_killed\", \"n_injured\", \n",
    "                                 \"participant_age_group\", \"participant_gender\",\n",
    "                                \"n_guns_involved\", \"participant_status\", \"participant_type\", \"state\",\n",
    "                                 'congressional_district']]\n",
    "\n",
    "gun_violence_red.head(5)\n",
    "#Rename The Columns \n",
    "\n",
    "gun_violence_red = gun_violence_red.rename(columns={\"incident_id\": \"Incident ID\",\n",
    "                                            \"date\": \"Date\",\n",
    "                                            \"state\": \"State\",\n",
    "                                            \"city_or_county\": \"City/County\",\n",
    "                                            \"n_killed\": \"Killed\",\n",
    "                                            \"n_injured\": \"Injured\",\n",
    "                                            \"participant_age_group\": \"Age Group\",\n",
    "                                            \"participant_gender\": \"Gender\",\n",
    "                                            \"gun_stolen\": \"Gun Stolen\",    \n",
    "                                            \"n_guns_involved\": \"Number of Guns involved\",\n",
    "                                            \"participant_status\": \"Participant Status\",\n",
    "                                            \"participant_type\": \"Associated with Participant\",\n",
    "                                            \"state\" : \"State\",       \n",
    "                                            \"congressional_district\": \"Congressional District\"                                            \n",
    "})\n",
    "\n",
    "gun_violence_red.head()"
   ]
  },
  {
   "cell_type": "code",
   "execution_count": null,
   "metadata": {},
   "outputs": [],
   "source": [
    "# counting for genders:\n",
    "\n",
    "def countGender(genderStr,ismale=True):\n",
    "    x = genderStr\n",
    "    \n",
    "    try:\n",
    "        results = [1 if 'female' in e.lower() else 0 for e in x.split('||')]\n",
    "        females = sum(results)\n",
    "        males = len(results) - females\n",
    "#         print(f'Females: {females} & Males: {males}')\n",
    "        if ismale:\n",
    "            return males\n",
    "        else:\n",
    "            return females\n",
    "    except:\n",
    "#         print(f\"Data not available: {x}\")\n",
    "        return x\n",
    "# Female\n",
    "gun_female = gun_violence_red['Gender'].apply(lambda my_str: countGender(my_str,ismale=False))\n",
    "# Male\n",
    "gun_male = gun_violence_red['Gender'].apply(lambda my_str: countGender(my_str))\n",
    "gun_violence_df = gun_violence_red\n",
    "gun_violence_df['Female'] = gun_female\n",
    "gun_violence_df['Male'] = gun_male\n",
    "gun_violence_df = gun_violence_df.drop(columns=[\"Gender\"])\n",
    "display(gun_violence_df.head())\n",
    "def countType(raw_str, str_type):\n",
    "    \n",
    "    try:\n",
    "        results = [1 if str_type in e.lower() else 0 for e in raw_str.split('||')]\n",
    "\n",
    "        return sum(results)\n",
    "    except:\n",
    "        return raw_str"
   ]
  },
  {
   "cell_type": "code",
   "execution_count": null,
   "metadata": {},
   "outputs": [],
   "source": [
    "#Creating/separating the individual variables for each age group\n",
    "# Adult\n",
    "adult_group = gun_violence_df['Age Group'].apply(lambda x: countType(x, 'adult'))\n",
    "adult_group.head(10)\n",
    "# Teen\n",
    "teen_group = gun_violence_df['Age Group'].apply(lambda x: countType(x, 'teen'))\n",
    "teen_group.head(10)\n",
    "# Child\n",
    "child_group = gun_violence_df['Age Group'].apply(lambda x: countType(x, 'child'))\n",
    "child_group.head(10)\n",
    "# Killed\n",
    "gun_kill = gun_violence_pd['participant_status'].apply(lambda x: countType(x, 'killed'))\n",
    "# Injured \n",
    "gun_injured = gun_violence_pd['participant_status'].apply(lambda x: countType(x, 'injured'))\n",
    "# Unharmed\n",
    "gun_unharmed = gun_violence_pd['participant_status'].apply(lambda x: countType(x, 'unharmed'))\n",
    "# Arrested\n",
    "gun_arrested = gun_violence_pd['participant_status'].apply(lambda x: countType(x, 'arrested'))\n",
    "gun_violence_df[\"Children (0-11)\"] = child_group\n",
    "gun_violence_df[\"Teens (12-17)\"] = teen_group\n",
    "gun_violence_df[\"Adults (18+)\"] = adult_group\n",
    "gun_violence_df[\"Killed\"] = gun_kill\n",
    "gun_violence_df[\"Injured\"] = gun_injured\n",
    "gun_violence_df[\"Unharmed\"] = gun_unharmed\n",
    "gun_violence_df[\"Arrested\"] = gun_arrested\n",
    "gun_violence_df = gun_violence_df.drop(columns=[\"Age Group\"])\n",
    "gun_violence_df = gun_violence_df.drop(columns=[\"Associated with Participant\"])\n",
    "gun_violence_df = gun_violence_df.drop(columns=[\"Participant Status\"])\n"
   ]
  },
  {
   "cell_type": "code",
   "execution_count": null,
   "metadata": {},
   "outputs": [],
   "source": [
    "#Reading in and creating a dataframe for congressional partisan lean\n",
    "partisan_read = pd.read_csv(\"partisan_data.csv\")\n",
    "partisan_df = pd.DataFrame(partisan_read)"
   ]
  },
  {
   "cell_type": "code",
   "execution_count": null,
   "metadata": {},
   "outputs": [],
   "source": [
    "#Creating columns to house state and district\n",
    "partisan_df[\"State\"] = \"\"\n",
    "partisan_df['Congressional District'] = \"\"\n",
    "#Populating state and district columns using existing data\n",
    "for row in range (0, len(partisan_df)):\n",
    "    partisan_df[\"State\"][row] = partisan_df[\"District\"][row][0:-2]\n",
    "    partisan_df[\"Congressional District\"][row] = partisan_df[\"District\"][row].split(\" \")[-1]\n",
    "    if partisan_df[\"State\"][row][-1] == \" \":\n",
    "        partisan_df[\"State\"][row] = partisan_df[\"State\"][row][:-1]"
   ]
  },
  {
   "cell_type": "code",
   "execution_count": null,
   "metadata": {},
   "outputs": [],
   "source": [
    "#Creating a column to format partisan lean data\n",
    "partisan_df[\"partisan_lean\"] = partisan_df[\"PVI\"]"
   ]
  },
  {
   "cell_type": "code",
   "execution_count": null,
   "metadata": {},
   "outputs": [],
   "source": [
    "#converting \"R+\" and \"D+\" into positive (for Republican) and negative (for Democrat) numbers\n",
    "for row in range (0, len(partisan_df)):\n",
    "    if type(partisan_df['PVI'][row]) == str:\n",
    "        if partisan_df['PVI'][row][0:2] == \"R+\":\n",
    "            partisan_df['partisan_lean'][row] = int(partisan_df['PVI'][row][2:])\n",
    "        elif partisan_df['partisan_lean'][row] == \"EVEN\":\n",
    "            partisan_df['partisan_lean'][row] = 0\n",
    "        else:\n",
    "            partisan_df['partisan_lean'][row] = int(\"-\" + partisan_df['PVI'][row][2:])\n",
    "    else:\n",
    "        print(\"??!!\")"
   ]
  },
  {
   "cell_type": "code",
   "execution_count": null,
   "metadata": {},
   "outputs": [],
   "source": [
    "partisan_df_clean = partisan_df[['State', 'Congressional District', 'partisan_lean']]"
   ]
  },
  {
   "cell_type": "code",
   "execution_count": null,
   "metadata": {},
   "outputs": [],
   "source": [
    "#Removing 'At Large' districts in preparation to merge.\n",
    "partisan_merge_ready = partisan_df_clean[partisan_df_clean[\"Congressional District\"] != \"AL\"]"
   ]
  },
  {
   "cell_type": "code",
   "execution_count": null,
   "metadata": {},
   "outputs": [],
   "source": [
    "gun_violence_red = gun_violence_red.dropna()"
   ]
  },
  {
   "cell_type": "code",
   "execution_count": null,
   "metadata": {},
   "outputs": [],
   "source": [
    "gun_violence_red[\"Congressional District\"] = pd.Series([str(int(i)) for i in  gun_violence_red[\"Congressional District\"]])"
   ]
  },
  {
   "cell_type": "code",
   "execution_count": null,
   "metadata": {},
   "outputs": [],
   "source": [
    "gun_partisan_merge_df = gun_violence_red.merge(\n",
    "    partisan_merge_ready,\n",
    "    on=[\"State\", \"Congressional District\"],\n",
    "    how='left'\n",
    ")"
   ]
  },
  {
   "cell_type": "code",
   "execution_count": null,
   "metadata": {},
   "outputs": [],
   "source": [
    "#combine the data sets to have partisan lean and gun violence in the same dataframe\n",
    "gun_partisan_merge_df[\"Congressional District\"]"
   ]
  },
  {
   "cell_type": "code",
   "execution_count": null,
   "metadata": {},
   "outputs": [],
   "source": [
    "#group by partisan lean\n",
    "df_by_partisan_lean = gun_partisan_merge_df.groupby(by=\"partisan_lean\").sum()"
   ]
  },
  {
   "cell_type": "code",
   "execution_count": null,
   "metadata": {},
   "outputs": [],
   "source": [
    "#prepping x and y axes\n",
    "x_axis = df_by_partisan_lean.index\n",
    "killed = df_by_partisan_lean[\"Killed\"]\n",
    "injured = df_by_partisan_lean[\"Injured\"]\n"
   ]
  },
  {
   "cell_type": "code",
   "execution_count": null,
   "metadata": {},
   "outputs": [],
   "source": [
    "#creating plot\n",
    "plt.bar(x_axis, killed)\n",
    "plt.bar(x_axis, injured, bottom=killed)\n",
    "\n",
    "plt.legend((\"Killed\", \"Injured\"))\n",
    "plt.xlabel(\"<--- More Democratic                   More Republican--->\")\n",
    "plt.ylabel(\"Injured and Killed\")\n",
    "plt.title(\"Gun Violence by Partisan Lean of District\")\n",
    "\n",
    "\n",
    "plt.savefig(\"gun_violence_by_partisan_lean\")"
   ]
  },
  {
   "cell_type": "code",
   "execution_count": null,
   "metadata": {},
   "outputs": [],
   "source": [
    "#Reading in csv with data on the density and income of congressional districts\n",
    "density_and_income = pd.read_csv(\"density_and_income.csv\")"
   ]
  },
  {
   "cell_type": "code",
   "execution_count": null,
   "metadata": {},
   "outputs": [],
   "source": [
    "#Creating density and income plot\n",
    "density_rank = density_and_income[\"National Density Rank\"]\n",
    "income_rank = density_and_income[\"Med Income Rank\"]\n",
    "plt.scatter(density_rank, income_rank)\n",
    "plt.grid()\n",
    "plt.xlabel(\"Population Density Rank out of 435 Districts\")\n",
    "plt.ylabel(\"Median Income Rank out of 435 Districts\")\n",
    "plt.title(\"Gun Violence by Density and Income\", fontsize=16)\n",
    "plt.text(30, 102, \"Rich, Dense\", fontsize=14, color='blue')\n",
    "plt.text(30, 310, \"Poor, Dense\", fontsize=14, color='cyan')\n",
    "plt.text(260, 310, \"Poor, Sparse\", fontsize=14, color='red')\n",
    "plt.text(260, 102, \"Rich, Sparse\", fontsize=14, color='magenta')\n",
    "plt.savefig(\"gun_violence_by_density_income\")"
   ]
  }
 ],
 "metadata": {
  "kernelspec": {
   "display_name": "Python 3",
   "language": "python",
   "name": "python3"
  },
  "language_info": {
   "codemirror_mode": {
    "name": "ipython",
    "version": 3
   },
   "file_extension": ".py",
   "mimetype": "text/x-python",
   "name": "python",
   "nbconvert_exporter": "python",
   "pygments_lexer": "ipython3",
   "version": "3.7.2"
  }
 },
 "nbformat": 4,
 "nbformat_minor": 2
}
